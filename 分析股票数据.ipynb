{
 "cells": [
  {
   "cell_type": "code",
   "execution_count": null,
   "metadata": {
    "ExecuteTime": {
     "start_time": "2020-05-21T14:21:50.650Z"
    },
    "pycharm": {
     "is_executing": true
    }
   },
   "outputs": [
    {
     "name": "stderr",
     "output_type": "stream",
     "text": [
      "D:\\Programing\\Anaconda3\\lib\\site-packages\\pandas_datareader\\compat\\__init__.py:7: FutureWarning: pandas.util.testing is deprecated. Use the functions in the public API at pandas.testing instead.\n",
      "  from pandas.util.testing import assert_frame_equal\n"
     ]
    }
   ],
   "source": [
    "import pandas as pd\n",
    "import matplotlib.pyplot as plt\n",
    "import pandas_datareader.data as web\n",
    "\n",
    "aapl=web.DataReader('AAPL', 'yahoo')\n",
    "goog=web.DataReader('GOOG', 'yahoo')\n",
    "baba=web.DataReader('BABA', 'yahoo')\n",
    "amzn=web.DataReader('AMZN', 'yahoo')"
   ]
  },
  {
   "cell_type": "code",
   "execution_count": null,
   "metadata": {
    "ExecuteTime": {
     "start_time": "2020-05-21T14:21:50.686Z"
    },
    "pycharm": {
     "is_executing": true,
     "name": "#%%\n"
    }
   },
   "outputs": [],
   "source": [
    "aapl_close=aapl['Close']\n",
    "goog_close=goog['Close']\n",
    "baba_close=baba['Close']\n",
    "amzn_close=amzn['Close']\n",
    "\n",
    "stock=pd.DataFrame({\n",
    "    'AAPL': aapl_close,\n",
    "    'GOOG': goog_close,\n",
    "    'BABA': baba_close,\n",
    "    'AMZN': amzn_close\n",
    "})\n",
    "stock.plot()"
   ]
  },
  {
   "cell_type": "code",
   "execution_count": null,
   "metadata": {
    "pycharm": {
     "is_executing": true,
     "name": "#%%\n"
    }
   },
   "outputs": [],
   "source": [
    "from matplotlib.dates import DateFormatter, WeekdayLocator, DayLocator, MONDAY\n",
    "from mpl_finance import candlestick_ochl\n",
    "import matplotlib.dates as mdates\n",
    "import datetime\n",
    "\n",
    "start=datetime.datetime(2017, 10, 1)\n",
    "end=datetime.datetime(2017, 11, 13)\n",
    "baba_se=baba.loc[start: end]\n",
    "\n",
    "mondays=WeekdayLocator(MONDAY)\n",
    "alldays=DayLocator()\n",
    "week_formatter=DateFormatter('%b %d')\n",
    "\n",
    "fig, ax=plt.subplots()\n",
    "fig.subplots_adjust(bottom=0.2)\n",
    "ax.xaxis.set_major_locator(mondays)\n",
    "ax.xaxis.set_minor_locator(alldays)\n",
    "ax.xaxis.set_major_formatter(week_formatter)\n",
    "\n",
    "baba_ohlc=baba_se.reset_index()\n",
    "baba_ohlc['Date']=baba_ohlc['Date'].map(mdates.date2num)\n",
    "candlestick_ochl(ax, baba_ohlc.values, width=0.7, colorup='r', colordown='g', alpha=0.7)\n",
    "\n",
    "ax.plot(baba_se['close'])\n",
    "\n",
    "ax.xaxis_date()\n",
    "ax.autoscale_view()\n",
    "plt.setp(plt.gca().get_xticklabels(), rotation=45, horizontalalignment='right')\n",
    "plt.grid(True)"
   ]
  },
  {
   "cell_type": "code",
   "execution_count": null,
   "outputs": [],
   "source": [
    "# 相对变化\n",
    "baba_return=baba.apply(lambda x: x/ x[0])\n",
    "baba_return.head()"
   ],
   "metadata": {
    "collapsed": false,
    "pycharm": {
     "name": "#%%\n",
     "is_executing": true
    }
   }
  },
  {
   "cell_type": "code",
   "execution_count": null,
   "outputs": [],
   "source": [
    "baba_return[['Open', 'Close']].plot(grid=True).axhline(y=1, color='black', lw=2)"
   ],
   "metadata": {
    "collapsed": false,
    "pycharm": {
     "name": "#%%\n",
     "is_executing": true
    }
   }
  },
  {
   "cell_type": "code",
   "execution_count": null,
   "outputs": [],
   "source": [
    "import datetime\n",
    "\n",
    "baba_close_change=baba['Close'].loc[datetime.datetime(2019,10,1):].pct_change()\n",
    "amzn_close_change=amzn['Close'].loc[datetime.datetime(2019,10,1):].pct_change()\n",
    "\n",
    "df=pd.DataFrame({\n",
    "    'BABA': baba_close_change,\n",
    "    'AMZN': amzn_close_change\n",
    "})\n",
    "df.plot(grid=True).axhline(y=0, color='black', lw=2)"
   ],
   "metadata": {
    "collapsed": false,
    "pycharm": {
     "name": "#%%\n",
     "is_executing": true
    }
   }
  },
  {
   "cell_type": "code",
   "execution_count": null,
   "outputs": [],
   "source": [
    "# 移动平均线\n",
    "import numpy as np\n",
    "\n",
    "baba_train=baba[datetime.datetime(2019,6,1): datetime.datetime(2020,1,20)]\n",
    "baba_train_close=baba_train['Close']\n",
    "\n",
    "ma20_mean=np.round(baba_train_close.rolling(window=20, center=True).mean(),2)\n",
    "ma5_mean=np.round(baba_train_close.rolling(window=5, center=True).mean(), 2)\n",
    "\n",
    "fig, ax=plt.subplot()\n",
    "ax.plot(ma5_mean, label='MA5', linestyle='-')\n",
    "ax.plot(ma20_mean, label='MA20', linestyle='--')\n",
    "plt.legend()\n",
    "plt.grid(True)"
   ],
   "metadata": {
    "collapsed": false,
    "pycharm": {
     "name": "#%%\n",
     "is_executing": true
    }
   }
  },
  {
   "cell_type": "code",
   "execution_count": null,
   "outputs": [],
   "source": [
    "baba_diff=ma5_mean-ma20_mean\n",
    "signal=np.sign(baba_diff-baba_diff.shift(1))\n",
    "buy=pd.DataFrame({\n",
    "    'price': baba_train.loc[signal.values==1, 'Close'],\n",
    "    'operation': 'Buy'\n",
    "})\n",
    "sell=pd.DataFrame({\n",
    "    'price': baba_train.loc[signal.values==-1, 'Close'],\n",
    "    'operation': 'Sell'\n",
    "})\n",
    "trade=pd.concat([buy, sell])\n",
    "trade.sort_index(inplace=True)\n",
    "trade\n"
   ],
   "metadata": {
    "collapsed": false,
    "pycharm": {
     "name": "#%%\n",
     "is_executing": true
    }
   }
  }
 ],
 "metadata": {
  "hide_input": false,
  "kernelspec": {
   "display_name": "Python 3",
   "language": "python",
   "name": "python3"
  },
  "language_info": {
   "codemirror_mode": {
    "name": "ipython",
    "version": 2
   },
   "file_extension": ".py",
   "mimetype": "text/x-python",
   "name": "python",
   "nbconvert_exporter": "python",
   "pygments_lexer": "ipython2",
   "version": "2.7.6"
  },
  "nbTranslate": {
   "displayLangs": [
    "*"
   ],
   "hotkey": "alt-t",
   "langInMainMenu": true,
   "sourceLang": "en",
   "targetLang": "fr",
   "useGoogleTranslate": true
  },
  "toc": {
   "base_numbering": 1,
   "nav_menu": {},
   "number_sections": true,
   "sideBar": true,
   "skip_h1_title": false,
   "title_cell": "Table of Contents",
   "title_sidebar": "Contents",
   "toc_cell": false,
   "toc_position": {},
   "toc_section_display": true,
   "toc_window_display": false
  },
  "varInspector": {
   "cols": {
    "lenName": 16,
    "lenType": 16,
    "lenVar": 40
   },
   "kernels_config": {
    "python": {
     "delete_cmd_postfix": "",
     "delete_cmd_prefix": "del ",
     "library": "var_list.py",
     "varRefreshCmd": "print(var_dic_list())"
    },
    "r": {
     "delete_cmd_postfix": ") ",
     "delete_cmd_prefix": "rm(",
     "library": "var_list.r",
     "varRefreshCmd": "cat(var_dic_list()) "
    }
   },
   "types_to_exclude": [
    "module",
    "function",
    "builtin_function_or_method",
    "instance",
    "_Feature"
   ],
   "window_display": false
  }
 },
 "nbformat": 4,
 "nbformat_minor": 1
}