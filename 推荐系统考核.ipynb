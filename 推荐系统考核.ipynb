{
 "cells": [
  {
   "cell_type": "markdown",
   "metadata": {},
   "source": [
    "（5分） “人以群分”描述的是什么推荐算法的思想？ "
   ]
  },
  {
   "cell_type": "markdown",
   "metadata": {},
   "source": [
    "- 协同过滤算法中，与目标用户相似的用户群体喜欢类似的物品。选取一个特定用户，基于打分的相信性发现类似于该用户的用户，并推荐那些相似用户喜欢的产品。"
   ]
  },
  {
   "cell_type": "markdown",
   "metadata": {},
   "source": [
    "（5分） “物以类聚”描述的是什么推荐算法的思想？"
   ]
  },
  {
   "cell_type": "markdown",
   "metadata": {},
   "source": [
    "- 协同过滤算法中，喜欢某个（某类）物品的用户，也会喜欢相似的物品。选取一个产品，发现喜欢该产品的用户，并找到这些用户或相似的用户还喜欢的其他的产品。输入一个产品，然后输出其他产品作为推荐　"
   ]
  },
  {
   "cell_type": "markdown",
   "metadata": {},
   "source": [
    "（10分） 不利用扩展库自己定义一个计算余弦相似度的函数。"
   ]
  },
  {
   "cell_type": "code",
   "execution_count": 27,
   "metadata": {},
   "outputs": [],
   "source": [
    "def my_cosine(a: list, b: list) -> int:\n",
    "    if len(a) != len(b):\n",
    "        raise Exception('A向量和B向量的长度必须相等')\n",
    "    s_, s_a, s_b = 0, 0, 0\n",
    "    for i in range(len(a)):\n",
    "        s_ += a[i] * b[i]\n",
    "        s_a += a[i]**2\n",
    "        s_b += b[i]**2\n",
    "\n",
    "\n",
    "#     print(s_, s_a**0.5 , s_b**0.5)\n",
    "    return s_ / (s_a**0.5) / (s_b**0.5)"
   ]
  },
  {
   "cell_type": "code",
   "execution_count": 28,
   "metadata": {},
   "outputs": [
    {
     "data": {
      "text/plain": [
       "0.9999999999999999"
      ]
     },
     "execution_count": 28,
     "metadata": {},
     "output_type": "execute_result"
    }
   ],
   "source": [
    "a = [1, 1]\n",
    "b = [2, 2]\n",
    "my_cosine(a, b)"
   ]
  },
  {
   "cell_type": "code",
   "execution_count": 30,
   "metadata": {},
   "outputs": [
    {
     "data": {
      "text/plain": [
       "0.9600014517991345"
      ]
     },
     "execution_count": 30,
     "metadata": {},
     "output_type": "execute_result"
    }
   ],
   "source": [
    "a = [1, 2, 3]\n",
    "b = [3, 4, 4]\n",
    "my_cosine(a, b)"
   ]
  },
  {
   "cell_type": "markdown",
   "metadata": {},
   "source": [
    "（10分） 简述推荐系统中召回阶段的作用。"
   ]
  },
  {
   "cell_type": "markdown",
   "metadata": {},
   "source": [
    "- 召回阶段是推荐系统的工程实际中一个必要的流程，其作用是快速完成输入样本数据在数据量级的转化。从海量物品内容库中，查找到用户潜在喜欢的物品内容。\n",
    "- 这个阶段需要将百万条以上的输入数据筛选转化成只有几万条的数据，解决快速得到业务所需要数据的问题，以便后面可以通过多次排序得到准确结果。"
   ]
  },
  {
   "cell_type": "markdown",
   "metadata": {},
   "source": [
    "（10分） 简述BaisSVD算法中偏置项的含义。"
   ]
  },
  {
   "cell_type": "markdown",
   "metadata": {},
   "source": [
    "- 加入偏置项是考虑到用户独立于对不同物品偏好的态度，例如：有些用户评分严格，则对所有物品的评分普遍偏低，有用户评分宽松，则对所有物品容易评价高分；\n",
    "- 另外，也考虑到物品本身在所有用户的流行度、知名度问题，例如：有些物品特别流行，则大部分用户都分对其评价高分，有些物品则不太流行，则用户很大可能对其评分不高。\n",
    "- 最后，也考虑到所有样本数据总体评分的情况，不同的训练样本之间总体评分的均值不一样。例如：用户对电影评分的数据集与用户对图书评分的数据集的总平均值就不一样。\n",
    "- 所以，加入偏置项则是为了用户和物品中与喜好不无关因素，以及样本总体本身的影响。"
   ]
  },
  {
   "cell_type": "markdown",
   "metadata": {},
   "source": [
    "（20分） 自己参考资料学习SVD++算法，简述其对于普通FunkSVD算法有哪些改进。"
   ]
  },
  {
   "cell_type": "markdown",
   "metadata": {},
   "source": [
    "![svdpp](svdpp.png)\n",
    "\n",
    "\n",
    "- 用户行为数据，又可细分为两部分：显式反馈数据（explicit feedbacks）和隐式反馈（implicit feedbacks）数据。\n",
    "- 显式反馈是指能明确表达用户好恶的行为数据，例如用户对某商品的购买、收藏、评分等数据。\n",
    "- 与之相反，隐式反馈数据是指无法直接体现用户偏好的行为，例如用户在网站中的点击、浏览、停留、跳转、关闭等行为。\n",
    "- 通过挖掘显式反馈数据能明确把握用户的偏好，但在很多应用中，显式反馈数据通常很稀疏，导致对用户偏好的挖掘无法深入。这个问题在一些刚上线的应用、或者偏冷门的物品或用户身上反映尤其明显。在这种情况下，用户的隐式反馈数据就显得尤为重要。因为虽然用户在网站中的点击等行为很庞杂，但其中蕴藏了大量信息。\n",
    "- 某个用户对某个电影进行了评分，那么说明他看过这部电影，那么这样的行为事实上蕴含了一定的信息，因此我们可以这样来理解问题：评分的行为从侧面反映了用户的喜好，可以将这样的反映通过隐式参数的形式体现在模型中，从而得到一个更为精细的模型，便是SVD++算法对FunkSVD算法的改进。\n",
    "- 其中 N(u) 为该用户所评价过的所有电影的集合，Yv为隐藏的“评价了电影v”反映出的个人喜好偏置。N(u) 因子取集合大小的根号是一个经验公式。\n",
    "\n",
    "\n"
   ]
  }
 ],
 "metadata": {
  "kernelspec": {
   "display_name": "Python 3",
   "language": "python",
   "name": "python3"
  },
  "language_info": {
   "codemirror_mode": {
    "name": "ipython",
    "version": 3
   },
   "file_extension": ".py",
   "mimetype": "text/x-python",
   "name": "python",
   "nbconvert_exporter": "python",
   "pygments_lexer": "ipython3",
   "version": "3.7.9"
  }
 },
 "nbformat": 4,
 "nbformat_minor": 4
}
