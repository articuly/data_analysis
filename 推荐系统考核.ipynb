{
 "cells": [
  {
   "cell_type": "markdown",
   "metadata": {},
   "source": [
    "（5分） “人以群分”描述的是什么推荐算法的思想？ "
   ]
  },
  {
   "cell_type": "code",
   "execution_count": 1,
   "metadata": {},
   "outputs": [],
   "source": [
    "# 协同过滤算法中，与目标用户相似的用户群体喜欢类似的物品。"
   ]
  },
  {
   "cell_type": "markdown",
   "metadata": {},
   "source": [
    "（5分） “物以类聚”描述的是什么推荐算法的思想？"
   ]
  },
  {
   "cell_type": "code",
   "execution_count": 2,
   "metadata": {},
   "outputs": [],
   "source": [
    "# 协同过滤算法中，喜欢某个（某类）物品的用户，也会喜欢相似的物品。"
   ]
  },
  {
   "cell_type": "markdown",
   "metadata": {},
   "source": [
    "（10分） 不利用扩展库自己定义一个计算余弦相似度的函数。"
   ]
  },
  {
   "cell_type": "code",
   "execution_count": 27,
   "metadata": {},
   "outputs": [],
   "source": [
    "def my_cosine(a: list, b: list) -> int:\n",
    "    if len(a) != len(b):\n",
    "        raise Exception('A向量和B向量的长度必须相等')\n",
    "    s_, s_a, s_b = 0, 0, 0\n",
    "    for i in range(len(a)):\n",
    "        s_ += a[i] * b[i]\n",
    "        s_a += a[i]**2\n",
    "        s_b += b[i]**2\n",
    "\n",
    "\n",
    "#     print(s_, s_a**0.5 , s_b**0.5)\n",
    "    return s_ / (s_a**0.5) / (s_b**0.5)"
   ]
  },
  {
   "cell_type": "code",
   "execution_count": 28,
   "metadata": {},
   "outputs": [
    {
     "data": {
      "text/plain": [
       "0.9999999999999999"
      ]
     },
     "execution_count": 28,
     "metadata": {},
     "output_type": "execute_result"
    }
   ],
   "source": [
    "a = [1, 1]\n",
    "b = [2, 2]\n",
    "my_cosine(a, b)"
   ]
  },
  {
   "cell_type": "code",
   "execution_count": 30,
   "metadata": {},
   "outputs": [
    {
     "data": {
      "text/plain": [
       "0.9600014517991345"
      ]
     },
     "execution_count": 30,
     "metadata": {},
     "output_type": "execute_result"
    }
   ],
   "source": [
    "a = [1, 2, 3]\n",
    "b = [3, 4, 4]\n",
    "my_cosine(a, b)"
   ]
  },
  {
   "cell_type": "markdown",
   "metadata": {},
   "source": [
    "（10分） 简述推荐系统中召回阶段的作用。"
   ]
  },
  {
   "cell_type": "code",
   "execution_count": 32,
   "metadata": {},
   "outputs": [],
   "source": [
    "# 召回阶段是推荐系统其中一个必要的流程，其作用是快速完成输入样本数据在数据量级的转化。\n",
    "# 这个阶段需要将百万条以上的输入数据筛选转化成只有几万条的数据，解决快速得到业务所需要数据的问题，以便后面可以通过多次排序得到准确结果。"
   ]
  },
  {
   "cell_type": "markdown",
   "metadata": {},
   "source": [
    "（10分） 简述BaisSVD算法中偏置项的含义。"
   ]
  },
  {
   "cell_type": "code",
   "execution_count": 33,
   "metadata": {},
   "outputs": [],
   "source": [
    "# 加入偏置项是考虑到用户独立于对不同物品偏好的态度，例如：有些用户评分严格，则对所有物品的评分普遍偏低，有用户评分宽松，则对所有物品容易评价高分；\n",
    "# 另外，也考虑到物品本身在所有用户的流行度、知名度问题，例如：有些物品特别流行，则大部分用户都分对其评价高分，有些物品则不太流行，则用户很大可能对其评分不高。\n",
    "# 最后，也考虑到所有样本数据总体评分的情况，不同的训练样本之间总体评分不一样。\n",
    "# 所以，加入偏置项则是为了用户和物品中与喜好不无关因素，以及样本总体本身的影响。"
   ]
  },
  {
   "cell_type": "markdown",
   "metadata": {},
   "source": [
    "（20分） 自己参考资料学习SVD++算法，简述其对于普通FunkSVD算法有哪些改进。"
   ]
  },
  {
   "cell_type": "code",
   "execution_count": null,
   "metadata": {},
   "outputs": [],
   "source": []
  },
  {
   "cell_type": "markdown",
   "metadata": {},
   "source": [
    "（20分） 编写一个简单的网页，对于新用户，可以根据 “评分”、“阅读量”、“综合” 三个指标，分别推荐Top10的书籍。图书评分数据使用实战演示课程中的数据集。"
   ]
  },
  {
   "cell_type": "code",
   "execution_count": null,
   "metadata": {},
   "outputs": [],
   "source": []
  },
  {
   "cell_type": "markdown",
   "metadata": {},
   "source": [
    "（20分） 利用surprise库编写一个协同过滤算法，上传调试结果。"
   ]
  },
  {
   "cell_type": "code",
   "execution_count": null,
   "metadata": {},
   "outputs": [],
   "source": []
  }
 ],
 "metadata": {
  "kernelspec": {
   "display_name": "Python 3",
   "language": "python",
   "name": "python3"
  },
  "language_info": {
   "codemirror_mode": {
    "name": "ipython",
    "version": 3
   },
   "file_extension": ".py",
   "mimetype": "text/x-python",
   "name": "python",
   "nbconvert_exporter": "python",
   "pygments_lexer": "ipython3",
   "version": "3.7.6"
  }
 },
 "nbformat": 4,
 "nbformat_minor": 4
}
