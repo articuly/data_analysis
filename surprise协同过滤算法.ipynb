{
 "cells": [
  {
   "cell_type": "markdown",
   "metadata": {},
   "source": [
    "（20分） 利用surprise库编写一个协同过滤算法，上传调试结果。"
   ]
  },
  {
   "cell_type": "code",
   "execution_count": 14,
   "metadata": {},
   "outputs": [],
   "source": [
    "from surprise import Dataset, Reader, KNNWithZScore, accuracy\n",
    "from surprise.model_selection import cross_validate, train_test_split, GridSearchCV\n",
    "import pandas as pd\n",
    "import numpy as np"
   ]
  },
  {
   "cell_type": "code",
   "execution_count": 25,
   "metadata": {},
   "outputs": [],
   "source": [
    "# 读取数据\n",
    "data=Dataset.load_builtin('ml-100k')"
   ]
  },
  {
   "cell_type": "code",
   "execution_count": 33,
   "metadata": {},
   "outputs": [],
   "source": [
    "# 定义参数范围\n",
    "param_grid = {'k': list(np.arange(10, 61, 5)), \n",
    "              'min_k': list(range(1, 6)),\n",
    "              'sim_options': {'name': ['cosine', 'MSD', 'pearson'],\n",
    "                              'min_support': [1, 3, 5]}}\n",
    "# 搜索最优参数\n",
    "gs = GridSearchCV(KNNWithZScore, param_grid, measures=['rmse', 'mae'], n_jobs=-1, cv=3)\n",
    "# 训练\n",
    "gs.fit(data)"
   ]
  },
  {
   "cell_type": "code",
   "execution_count": 34,
   "metadata": {},
   "outputs": [
    {
     "name": "stdout",
     "output_type": "stream",
     "text": [
      "0.9524553901015985\n",
      "{'k': 60, 'min_k': 3, 'sim_options': {'name': 'pearson', 'min_support': 5, 'user_based': True}}\n"
     ]
    }
   ],
   "source": [
    "# 以RMSE评分，显示最优模型参数\n",
    "print(gs.best_score['rmse'])\n",
    "print(gs.best_params['rmse'])"
   ]
  },
  {
   "cell_type": "code",
   "execution_count": 36,
   "metadata": {},
   "outputs": [
    {
     "name": "stdout",
     "output_type": "stream",
     "text": [
      "0.743227115534014\n",
      "{'k': 55, 'min_k': 2, 'sim_options': {'name': 'pearson', 'min_support': 5, 'user_based': True}}\n"
     ]
    }
   ],
   "source": [
    "# 以MAE评分，显示最优模型参数\n",
    "print(gs.best_score['mae'])\n",
    "print(gs.best_params['mae'])"
   ]
  },
  {
   "cell_type": "code",
   "execution_count": 37,
   "metadata": {},
   "outputs": [
    {
     "name": "stdout",
     "output_type": "stream",
     "text": [
      "Computing the pearson similarity matrix...\n",
      "Done computing similarity matrix.\n"
     ]
    },
    {
     "data": {
      "text/plain": [
       "<surprise.prediction_algorithms.knns.KNNWithZScore at 0x2b621b128c8>"
      ]
     },
     "execution_count": 37,
     "metadata": {},
     "output_type": "execute_result"
    }
   ],
   "source": [
    "# 以RMSE评分最优的参数建立模型\n",
    "best_knn = KNNWithZScore(k=60, min_k=3, sim_options={'name':'pearson', 'min_support':5, 'user_base':True})\n",
    "# 以整个数据训练\n",
    "best_knn.fit(data.build_full_trainset())"
   ]
  },
  {
   "cell_type": "code",
   "execution_count": 44,
   "metadata": {},
   "outputs": [
    {
     "data": {
      "text/plain": [
       "Prediction(uid='87', iid='1016', r_ui=4, est=3.6725061814985143, details={'actual_k': 60, 'was_impossible': False})"
      ]
     },
     "execution_count": 44,
     "metadata": {},
     "output_type": "execute_result"
    }
   ],
   "source": [
    "# 预测评分与实际评分对比\n",
    "best_knn.predict('87', '1016', r_ui=4)"
   ]
  },
  {
   "cell_type": "code",
   "execution_count": 45,
   "metadata": {},
   "outputs": [
    {
     "data": {
      "text/plain": [
       "Prediction(uid='174', iid='368', r_ui=1, est=1, details={'actual_k': 27, 'was_impossible': False})"
      ]
     },
     "execution_count": 45,
     "metadata": {},
     "output_type": "execute_result"
    }
   ],
   "source": [
    "# 预测评分与实际评分对比\n",
    "best_knn.predict('174', '368', r_ui=1)"
   ]
  },
  {
   "cell_type": "code",
   "execution_count": 46,
   "metadata": {},
   "outputs": [
    {
     "data": {
      "text/plain": [
       "495"
      ]
     },
     "execution_count": 46,
     "metadata": {},
     "output_type": "execute_result"
    }
   ],
   "source": [
    "# 经过495次计算，一不小心就用了差不一个小时来训练\n",
    "len(gs.cv_results['mean_fit_time'])"
   ]
  },
  {
   "cell_type": "code",
   "execution_count": null,
   "metadata": {},
   "outputs": [],
   "source": []
  }
 ],
 "metadata": {
  "kernelspec": {
   "display_name": "Python 3",
   "language": "python",
   "name": "python3"
  },
  "language_info": {
   "codemirror_mode": {
    "name": "ipython",
    "version": 3
   },
   "file_extension": ".py",
   "mimetype": "text/x-python",
   "name": "python",
   "nbconvert_exporter": "python",
   "pygments_lexer": "ipython3",
   "version": "3.7.9"
  }
 },
 "nbformat": 4,
 "nbformat_minor": 4
}
