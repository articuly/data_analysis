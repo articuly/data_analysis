{
 "cells": [
  {
   "cell_type": "markdown",
   "metadata": {},
   "source": [
    "# surprise\n",
    "\n",
    "[API地址](https://surprise.readthedocs.io/en/stable/getting_started.html)<br>\n",
    "[数据加载](#Dataset)<br>\n",
    "[模型训练](#fit)<br>\n",
    "[交叉验证](#CV)<br>\n",
    "\n",
    "算法 | 描述\n",
    "-: | :-\n",
    "random.**NormalPredictor** | 基于统计的推荐系统预测打分，假定用户打分的分布是基于正态分布的\n",
    "**BaselineOnly** | 基于统计的基准预测线打分\n",
    "knns.**KNNBasic** | 基本的协同过滤算法\n",
    "knns.**KNNWithMeans** | 协同过滤算法的变种，考虑每个用户的平均评分\n",
    "knns.**KNNWithZScore** | 协同过滤算法的变种，考虑每个用户评分的归一化操作\n",
    "knns.**KNNBaseline** | 协同过滤算法的变种，考虑每个用户评分的基线\n",
    "matrix_factorzation.**SVD** | SVD 矩阵分解算法\n",
    "matrix_factorzation.**SVDpp** | SVD++ 矩阵分解算法\n",
    "matrix_factorzation.**NMF** | 一种非负矩阵分解的协同过滤算法\n",
    "**SlopeOne** | SlopeOne 协同过滤算法"
   ]
  },
  {
   "cell_type": "code",
   "execution_count": null,
   "metadata": {},
   "outputs": [],
   "source": [
    "!conda install surprise"
   ]
  },
  {
   "cell_type": "code",
   "execution_count": null,
   "metadata": {},
   "outputs": [],
   "source": []
  }
 ],
 "metadata": {
  "kernelspec": {
   "display_name": "Python 3",
   "language": "python",
   "name": "python3"
  },
  "language_info": {
   "codemirror_mode": {
    "name": "ipython",
    "version": 3
   },
   "file_extension": ".py",
   "mimetype": "text/x-python",
   "name": "python",
   "nbconvert_exporter": "python",
   "pygments_lexer": "ipython3",
   "version": "3.7.6"
  }
 },
 "nbformat": 4,
 "nbformat_minor": 4
}
