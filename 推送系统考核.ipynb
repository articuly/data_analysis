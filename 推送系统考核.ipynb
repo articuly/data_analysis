{
 "cells": [
  {
   "cell_type": "markdown",
   "metadata": {},
   "source": [
    "（5分） “人以群分”描述的是什么推荐算法的思想？ "
   ]
  },
  {
   "cell_type": "markdown",
   "metadata": {},
   "source": [
    "（5分） “物以类聚”描述的是什么推荐算法的思想？"
   ]
  },
  {
   "cell_type": "markdown",
   "metadata": {},
   "source": [
    "（10分） 不利用扩展库自己定义一个计算余弦相似度的函数。"
   ]
  },
  {
   "cell_type": "markdown",
   "metadata": {},
   "source": [
    "（10分） 简述推荐系统中召回阶段的作用。"
   ]
  },
  {
   "cell_type": "markdown",
   "metadata": {},
   "source": [
    "（10分） 简述BaisSVD算法中偏置项的含义。"
   ]
  },
  {
   "cell_type": "markdown",
   "metadata": {},
   "source": [
    "（20分） 自己参考资料学习SVD++算法，简述其对于普通FunkSVD算法有哪些改进。"
   ]
  },
  {
   "cell_type": "markdown",
   "metadata": {},
   "source": [
    "（20分） 编写一个简单的网页，对于新用户，可以根据 “评分”、“阅读量”、“综合” 三个指标，分别推荐Top10的书籍。图书评分数据使用实战演示课程中的数据集。"
   ]
  },
  {
   "cell_type": "markdown",
   "metadata": {},
   "source": [
    "（20分） 利用surprise库编写一个协同过滤算法，上传调试结果。"
   ]
  },
  {
   "cell_type": "code",
   "execution_count": null,
   "metadata": {},
   "outputs": [],
   "source": []
  }
 ],
 "metadata": {
  "kernelspec": {
   "display_name": "Python 3",
   "language": "python",
   "name": "python3"
  },
  "language_info": {
   "codemirror_mode": {
    "name": "ipython",
    "version": 3
   },
   "file_extension": ".py",
   "mimetype": "text/x-python",
   "name": "python",
   "nbconvert_exporter": "python",
   "pygments_lexer": "ipython3",
   "version": "3.7.6"
  }
 },
 "nbformat": 4,
 "nbformat_minor": 4
}
